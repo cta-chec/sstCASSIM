{
 "cells": [
  {
   "cell_type": "markdown",
   "metadata": {},
   "source": [
    "# Tutorial 5 : Charge Resolution\n",
    "\n",
    "This notebook demonstrates a very basic Charge Resolution investigation. It simulates a uniform illumination source, with no NSB and no electronic noise. The charge is extracted from the waveform by integrating the full waveform. Due to its simplicity, the result of the Charge Resolution only describes the photosensor Excess Noise Factor component and the poisson fluctions of the photons. This result is therefore analytically calculable from the `SPESpectrum`, and demonstrated alongside the final result."
   ]
  },
  {
   "cell_type": "code",
   "execution_count": 1,
   "metadata": {},
   "outputs": [],
   "source": [
    "from sstcam_simulation import Camera, SSTCameraMapping, PhotoelectronSource, EventAcquisition\n",
    "from CHECLabPy.utils.resolutions import ChargeResolution\n",
    "from tqdm import tqdm, trange\n",
    "import numpy as np\n",
    "from matplotlib import pyplot as plt\n",
    "%matplotlib inline"
   ]
  },
  {
   "cell_type": "code",
   "execution_count": 2,
   "metadata": {},
   "outputs": [],
   "source": [
    "# Define the camera\n",
    "camera = Camera(\n",
    "    mapping=SSTCameraMapping(n_pixels=1),  # Only need a single pixel\n",
    "    continuous_readout_duration=128,  # Only need a single-waveform's worth of readout\n",
    "    n_waveform_samples=128,\n",
    ")\n",
    "n_pixels = camera.mapping.n_pixels\n",
    "pixel_array = np.arange(n_pixels)"
   ]
  },
  {
   "cell_type": "code",
   "execution_count": 3,
   "metadata": {},
   "outputs": [
    {
     "name": "stderr",
     "output_type": "stream",
     "text": [
      "100%|██████████| 100/100 [00:18<00:00,  5.27it/s]\n"
     ]
    }
   ],
   "source": [
    "source = PhotoelectronSource(camera=camera)\n",
    "acquisition = EventAcquisition(camera=camera)\n",
    "charge_resolution = ChargeResolution(mc_true=True)\n",
    "n_events = 100\n",
    "for illumination in tqdm(np.logspace(1, 3, 100)):\n",
    "    for iev in range(n_events):\n",
    "        pe = source.get_uniform_illumination(time=60, illumination=illumination)\n",
    "        readout = acquisition.get_continuous_readout(pe)\n",
    "        waveform = acquisition.get_sampled_waveform(readout)\n",
    "        \n",
    "        # Charge Extraction\n",
    "        measured_charge = waveform.sum(1)\n",
    "        \n",
    "        true_charge = pe.get_photoelectrons_per_pixel(n_pixels)\n",
    "        charge_resolution.add(pixel_array, true_charge, measured_charge)"
   ]
  },
  {
   "cell_type": "code",
   "execution_count": 4,
   "metadata": {},
   "outputs": [],
   "source": [
    "df, _ = charge_resolution.finish()"
   ]
  },
  {
   "cell_type": "code",
   "execution_count": 5,
   "metadata": {},
   "outputs": [],
   "source": [
    "def bin_dataframe(df, n_bins=40):\n",
    "    true = df['true'].values\n",
    "    min_ = true.min()\n",
    "    max_ = (true.max() // 500 + 1) * 500\n",
    "    bins = np.geomspace(0.1, max_, n_bins)\n",
    "    bins = np.append(bins, 10**(np.log10(bins[-1]) + np.diff(np.log10(bins))[0]))\n",
    "    df['bin'] = np.digitize(true, bins, right=True) - 1\n",
    "\n",
    "    log = np.log10(bins)\n",
    "    between = 10**((log[1:] + log[:-1]) / 2)\n",
    "    edges = np.repeat(bins, 2)[1:-1].reshape((bins.size-1 , 2))\n",
    "    edge_l = edges[:, 0]\n",
    "    edge_r = edges[:, 1]\n",
    "    df['between'] = between[df['bin']]\n",
    "    df['edge_l'] = edge_l[df['bin']]\n",
    "    df['edge_r'] = edge_r[df['bin']]\n",
    "\n",
    "    return df"
   ]
  },
  {
   "cell_type": "code",
   "execution_count": 6,
   "metadata": {},
   "outputs": [],
   "source": [
    "df = bin_dataframe(df, n_bins=40)"
   ]
  },
  {
   "cell_type": "code",
   "execution_count": 7,
   "metadata": {},
   "outputs": [
    {
     "data": {
      "image/png": "[encoded data removed]",
      "text/plain": [
       "<Figure size 432x288 with 1 Axes>"
      ]
     },
     "metadata": {
      "needs_background": "light"
     },
     "output_type": "display_data"
    }
   ],
   "source": [
    "df_mean = df.groupby('bin').mean()\n",
    "bin_ = df_mean.index\n",
    "x = df_mean['true'].values\n",
    "y = df_mean['charge_resolution'].values\n",
    "\n",
    "poisson_limit = np.sqrt(x) / x\n",
    "enf_limit = np.sqrt(camera.photoelectron_spectrum.excess_noise_factor * x) / x\n",
    "\n",
    "plt.plot(x, poisson_limit, label=\"Poisson Limit\")\n",
    "plt.plot(x, enf_limit, label=\"ENF Limit\", color='black')\n",
    "plt.plot(x, y, '.', label=\"From Waveform\")\n",
    "plt.legend(loc=\"best\")\n",
    "plt.xlabel(\"Number of Photoelectrons\")\n",
    "plt.ylabel(r\"Fractional Charge Resolution $\\frac{{\\sigma_Q}}{{Q}}$\")\n",
    "plt.xscale('log')\n",
    "plt.yscale('log')"
   ]
  },
  {
   "cell_type": "code",
   "execution_count": null,
   "metadata": {},
   "outputs": [],
   "source": []
  }
 ],
 "metadata": {
  "kernelspec": {
   "display_name": "Python [conda env:cta] *",
   "language": "python",
   "name": "conda-env-cta-py"
  },
  "language_info": {
   "codemirror_mode": {
    "name": "ipython",
    "version": 3
   },
   "file_extension": ".py",
   "mimetype": "text/x-python",
   "name": "python",
   "nbconvert_exporter": "python",
   "pygments_lexer": "ipython3",
   "version": "3.7.5"
  }
 },
 "nbformat": 4,
 "nbformat_minor": 4
}
