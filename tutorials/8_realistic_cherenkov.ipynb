{
 "cells": [
  {
   "cell_type": "markdown",
   "metadata": {},
   "source": [
    "# Tutorial 8: Obtaining Realistic Cherenkov Events\n",
    "\n",
    "While it is possible to create toy Cherenkov events with `PhotoelectronSource.get_cherenkov_shower`, there are no limitations on the parameters supplied. The resulting Cherenkov showers can consequently be very unrealistic. Additionally, there is no underlying relation of the parameters to the typical physical energy spectra. To reliably describe the on-sky performance of a camera simulated with sstcam-simulation, we must be able to simulate its response to realistic Cherenkov showers.\n",
    "\n",
    "This tutorial demonstrates the `PhotoelectronReader` class, reading a photoelectron HDF5 file created from the photoelectrons saved in simtelarray files. The information included in each row of this HDF5 table is the arrival time and arrival pixel for each photoelectron, as well as the Cherenkov shower simulation parameters (e.g. energy)"
   ]
  },
  {
   "cell_type": "code",
   "execution_count": 1,
   "metadata": {},
   "outputs": [
    {
     "name": "stdout",
     "output_type": "stream",
     "text": [
      "Using matplotlib backend: MacOSX\n"
     ]
    }
   ],
   "source": [
    "from sstcam_simulation import Camera, PhotoelectronReader, EventAcquisition, PhotoelectronSource\n",
    "from sstcam_simulation.camera.pulse import GaussianPulse\n",
    "from sstcam_simulation.plotting import CameraImage\n",
    "from sstcam_simulation.data import get_data\n",
    "from matplotlib import pyplot as plt\n",
    "%matplotlib"
   ]
  },
  {
   "cell_type": "code",
   "execution_count": 2,
   "metadata": {},
   "outputs": [],
   "source": [
    "camera = Camera(\n",
    "    continuous_readout_duration=128,\n",
    ")"
   ]
  },
  {
   "cell_type": "code",
   "execution_count": 3,
   "metadata": {},
   "outputs": [],
   "source": [
    "# Obtain test dataset\n",
    "photoelectron_path = get_data(\"testing/photoelectron_test.h5\")"
   ]
  },
  {
   "cell_type": "code",
   "execution_count": 4,
   "metadata": {},
   "outputs": [
    {
     "name": "stdout",
     "output_type": "stream",
     "text": [
      "Opening HDF5 file: /Users/Jason/Software/sstcam-simulation/sstcam_simulation/data/testing/photoelectron_test.h5\n",
      "Reading entire DataFrame (geometry) from HDF5 file into memory\n",
      "Reading entire DataFrame (data) from HDF5 file into memory\n"
     ]
    }
   ],
   "source": [
    "# Obtain first Cherenkov event in file\n",
    "with PhotoelectronReader(photoelectron_path, camera, start_time=40) as reader:\n",
    "    for pe in reader:\n",
    "        if len(pe) > 100:\n",
    "            break\n",
    "\n",
    "# Simulate some nsb\n",
    "source = PhotoelectronSource(camera=camera)\n",
    "nsb = source.get_nsb(10)\n",
    "acquisition = EventAcquisition(camera=camera)\n",
    "readout = acquisition.get_continuous_readout(pe+nsb)\n",
    "samples = acquisition.get_sampled_waveform(readout)"
   ]
  },
  {
   "cell_type": "code",
   "execution_count": 5,
   "metadata": {},
   "outputs": [],
   "source": [
    "image = CameraImage.from_coordinates(camera.mapping.pixel)\n",
    "image.add_colorbar(\"Total Number of Photoelectrons\")\n",
    "image.image = pe.get_charge_per_pixel(camera.mapping.n_pixels)"
   ]
  },
  {
   "cell_type": "code",
   "execution_count": 6,
   "metadata": {},
   "outputs": [],
   "source": [
    "image = CameraImage.from_coordinates(camera.mapping.pixel)\n",
    "image.add_colorbar(\"Waveform Amplitude\")\n",
    "image.set_limits_minmax(samples.min(), samples.max())\n",
    "n_samples = samples.shape[1]\n",
    "for isample in range(n_samples):\n",
    "    image.image = samples[:, isample]\n",
    "    plt.pause(0.001)"
   ]
  },
  {
   "cell_type": "code",
   "execution_count": 7,
   "metadata": {},
   "outputs": [],
   "source": [
    "_ = plt.plot(samples.T)"
   ]
  }
 ],
 "metadata": {
  "kernelspec": {
   "display_name": "Python [conda env:cta] *",
   "language": "python",
   "name": "conda-env-cta-py"
  },
  "language_info": {
   "codemirror_mode": {
    "name": "ipython",
    "version": 3
   },
   "file_extension": ".py",
   "mimetype": "text/x-python",
   "name": "python",
   "nbconvert_exporter": "python",
   "pygments_lexer": "ipython3",
   "version": "3.7.5"
  }
 },
 "nbformat": 4,
 "nbformat_minor": 4
}
