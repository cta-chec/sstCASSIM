{
 "cells": [
  {
   "cell_type": "markdown",
   "metadata": {},
   "source": [
    "# Tutorial 8: Obtaining Realistic Cherenkov Events\n",
    "\n",
    "While it is possible to create toy Cherenkov events with `PhotoelectronSource.get_cherenkov_shower`, there are no limitations on the parameters supplied. The resulting Cherenkov showers can consequently be very unrealistic. Additionally, there is no underlying relation of the parameters to the typical physical energy spectra. To reliably describe the on-sky performance of a camera simulated with sstcam-simulation, we must be able to simulate its response to realistic Cherenkov showers.\n",
    "\n",
    "This tutorial demonstrates the `SimtelReader` class, reading photoelectrons saved inside simtelarray files, which in addition to the arrival pixel, time and charge of the photoelectrons, provides metadata about the simulated Cherenkov shower event (e.g. energy). It also demonstrates processing these photoelectrons through the sstcam-simulation chain, resampling the charge with the spectrum we define, adding NSand generating the waveform"
   ]
  },
  {
   "cell_type": "code",
   "execution_count": 6,
   "metadata": {},
   "outputs": [
    {
     "name": "stdout",
     "output_type": "stream",
     "text": [
      "Using matplotlib backend: MacOSX\n"
     ]
    }
   ],
   "source": [
    "from sstcam_simulation import Camera, SimtelReader, EventAcquisition, PhotoelectronSource\n",
    "from sstcam_simulation.camera.pulse import GaussianPulse\n",
    "from sstcam_simulation.plotting import CameraImage\n",
    "from sstcam_simulation.data import get_data\n",
    "from matplotlib import pyplot as plt\n",
    "%matplotlib"
   ]
  },
  {
   "cell_type": "code",
   "execution_count": 7,
   "metadata": {},
   "outputs": [],
   "source": [
    "camera = Camera(\n",
    "    continuous_readout_duration=128,\n",
    ")"
   ]
  },
  {
   "cell_type": "code",
   "execution_count": 11,
   "metadata": {},
   "outputs": [],
   "source": [
    "# Obtain test dataset\n",
    "path = get_data(\"testing/simtel_test.simtel.gz\")"
   ]
  },
  {
   "cell_type": "code",
   "execution_count": 12,
   "metadata": {},
   "outputs": [
    {
     "data": {
      "text/plain": [
       "\u001b[0;31mInit signature:\u001b[0m\n",
       "\u001b[0mSimtelReader\u001b[0m\u001b[0;34m(\u001b[0m\u001b[0;34m\u001b[0m\n",
       "\u001b[0;34m\u001b[0m    \u001b[0mpath\u001b[0m\u001b[0;34m:\u001b[0m \u001b[0mstr\u001b[0m\u001b[0;34m,\u001b[0m\u001b[0;34m\u001b[0m\n",
       "\u001b[0;34m\u001b[0m    \u001b[0mdisable_remapping\u001b[0m\u001b[0;34m:\u001b[0m \u001b[0mbool\u001b[0m \u001b[0;34m=\u001b[0m \u001b[0;32mFalse\u001b[0m\u001b[0;34m,\u001b[0m\u001b[0;34m\u001b[0m\n",
       "\u001b[0;34m\u001b[0m    \u001b[0monly_triggered_events\u001b[0m\u001b[0;34m:\u001b[0m \u001b[0mbool\u001b[0m \u001b[0;34m=\u001b[0m \u001b[0;32mFalse\u001b[0m\u001b[0;34m,\u001b[0m\u001b[0;34m\u001b[0m\n",
       "\u001b[0;34m\u001b[0m    \u001b[0mn_events\u001b[0m\u001b[0;34m:\u001b[0m \u001b[0mint\u001b[0m \u001b[0;34m=\u001b[0m \u001b[0;32mNone\u001b[0m\u001b[0;34m,\u001b[0m\u001b[0;34m\u001b[0m\n",
       "\u001b[0;34m\u001b[0m\u001b[0;34m)\u001b[0m\u001b[0;34m\u001b[0m\u001b[0;34m\u001b[0m\u001b[0m\n",
       "\u001b[0;31mDocstring:\u001b[0m      <no docstring>\n",
       "\u001b[0;31mInit docstring:\u001b[0m\n",
       "Read Photoelectron arrays directly from simtelarray files\n",
       "\n",
       "Parameters\n",
       "----------\n",
       "path : str\n",
       "    Path to the simtel file\n",
       "disable_remapping : bool\n",
       "    Disables the remapping of the pixels to the sstcam-simulation\n",
       "    pixel mapping\n",
       "only_triggered_events : bool\n",
       "    Only read events which caused a telescope trigger\n",
       "n_events : int\n",
       "    Number of telescope events to process\n",
       "\u001b[0;31mFile:\u001b[0m           ~/Software/sstcam-simulation/sstcam_simulation/io/simtel_reader.py\n",
       "\u001b[0;31mType:\u001b[0m           type\n",
       "\u001b[0;31mSubclasses:\u001b[0m     \n"
      ]
     },
     "metadata": {},
     "output_type": "display_data"
    }
   ],
   "source": [
    "SimtelReader?"
   ]
  },
  {
   "cell_type": "code",
   "execution_count": 21,
   "metadata": {},
   "outputs": [],
   "source": [
    "# Obtain first Cherenkov event in file\n",
    "reader = SimtelReader(path)\n",
    "for pe in reader:\n",
    "    if len(pe) > 200:\n",
    "        break\n",
    "        \n",
    "# Resample the charge using the spectrum defined in the Camera\n",
    "acquisition = EventAcquisition(camera=camera)\n",
    "pe = acquisition.resample_photoelectron_charge(pe)\n",
    "\n",
    "# Simulate some nsb\n",
    "source = PhotoelectronSource(camera=camera)\n",
    "nsb = source.get_nsb(10)\n",
    "readout = acquisition.get_continuous_readout(pe+nsb)\n",
    "samples = acquisition.get_sampled_waveform(readout)"
   ]
  },
  {
   "cell_type": "code",
   "execution_count": 22,
   "metadata": {},
   "outputs": [],
   "source": [
    "image = CameraImage.from_coordinates(camera.mapping.pixel)\n",
    "image.add_colorbar(\"Total Number of Photoelectrons\")\n",
    "image.image = pe.get_charge_per_pixel(camera.mapping.n_pixels)"
   ]
  },
  {
   "cell_type": "code",
   "execution_count": 16,
   "metadata": {},
   "outputs": [],
   "source": [
    "import time\n",
    "image = CameraImage.from_coordinates(camera.mapping.pixel)\n",
    "image.add_colorbar(\"Waveform Amplitude\")\n",
    "image.set_limits_minmax(samples.min(), samples.max())\n",
    "n_samples = samples.shape[1]\n",
    "#plt.pause(10)\n",
    "for isample in range(n_samples):\n",
    "    image.image = samples[:, isample]\n",
    "    plt.pause(0.01)"
   ]
  },
  {
   "cell_type": "code",
   "execution_count": 18,
   "metadata": {},
   "outputs": [],
   "source": [
    "_ = plt.plot(samples.T)"
   ]
  },
  {
   "cell_type": "code",
   "execution_count": null,
   "metadata": {},
   "outputs": [],
   "source": []
  }
 ],
 "metadata": {
  "kernelspec": {
   "display_name": "Python [conda env:cta] *",
   "language": "python",
   "name": "conda-env-cta-py"
  },
  "language_info": {
   "codemirror_mode": {
    "name": "ipython",
    "version": 3
   },
   "file_extension": ".py",
   "mimetype": "text/x-python",
   "name": "python",
   "nbconvert_exporter": "python",
   "pygments_lexer": "ipython3",
   "version": "3.7.5"
  }
 },
 "nbformat": 4,
 "nbformat_minor": 4
}
