{
 "cells": [
  {
   "cell_type": "code",
   "execution_count": 1,
   "metadata": {},
   "outputs": [],
   "source": [
    "import numpy as np\n",
    "from matplotlib import pyplot as plt\n",
    "%matplotlib inline"
   ]
  },
  {
   "cell_type": "markdown",
   "metadata": {},
   "source": [
    "# Tutorial 1: Defining a Camera\n",
    "\n",
    "The first step in creating a sstcam-simulation script is defining the camera. The description of a Camera in the sstcam-simulation package is contained within the `Camera` class. This is simply a container for the different aspects important for the simulation processing. This notebook describes some of the more complex contents of the `Camera` class."
   ]
  },
  {
   "cell_type": "code",
   "execution_count": 2,
   "metadata": {},
   "outputs": [
    {
     "data": {
      "text/plain": [
       "\u001b[0;31mInit signature:\u001b[0m\n",
       "\u001b[0mCamera\u001b[0m\u001b[0;34m(\u001b[0m\u001b[0;34m\u001b[0m\n",
       "\u001b[0;34m\u001b[0m    \u001b[0mcontinuous_readout_length\u001b[0m\u001b[0;34m:\u001b[0m \u001b[0mint\u001b[0m \u001b[0;34m=\u001b[0m \u001b[0;36m1000\u001b[0m\u001b[0;34m,\u001b[0m\u001b[0;34m\u001b[0m\n",
       "\u001b[0;34m\u001b[0m    \u001b[0mwaveform_length\u001b[0m\u001b[0;34m:\u001b[0m \u001b[0mint\u001b[0m \u001b[0;34m=\u001b[0m \u001b[0;36m128\u001b[0m\u001b[0;34m,\u001b[0m\u001b[0;34m\u001b[0m\n",
       "\u001b[0;34m\u001b[0m    \u001b[0mtrigger_threshold\u001b[0m\u001b[0;34m:\u001b[0m \u001b[0mfloat\u001b[0m \u001b[0;34m=\u001b[0m \u001b[0;36m2\u001b[0m\u001b[0;34m,\u001b[0m\u001b[0;34m\u001b[0m\n",
       "\u001b[0;34m\u001b[0m    \u001b[0mcoincidence_window\u001b[0m\u001b[0;34m:\u001b[0m \u001b[0mfloat\u001b[0m \u001b[0;34m=\u001b[0m \u001b[0;36m8\u001b[0m\u001b[0;34m,\u001b[0m\u001b[0;34m\u001b[0m\n",
       "\u001b[0;34m\u001b[0m    \u001b[0mlookback_time\u001b[0m\u001b[0;34m:\u001b[0m \u001b[0mfloat\u001b[0m \u001b[0;34m=\u001b[0m \u001b[0;36m20\u001b[0m\u001b[0;34m,\u001b[0m\u001b[0;34m\u001b[0m\n",
       "\u001b[0;34m\u001b[0m    \u001b[0mpixel\u001b[0m\u001b[0;34m:\u001b[0m \u001b[0msstcam_simulation\u001b[0m\u001b[0;34m.\u001b[0m\u001b[0mcamera\u001b[0m\u001b[0;34m.\u001b[0m\u001b[0mmapping\u001b[0m\u001b[0;34m.\u001b[0m\u001b[0mPixelMapping\u001b[0m \u001b[0;34m=\u001b[0m \u001b[0;34m<\u001b[0m\u001b[0msstcam_simulation\u001b[0m\u001b[0;34m.\u001b[0m\u001b[0mcamera\u001b[0m\u001b[0;34m.\u001b[0m\u001b[0mmapping\u001b[0m\u001b[0;34m.\u001b[0m\u001b[0mPixelMapping\u001b[0m \u001b[0mobject\u001b[0m \u001b[0mat\u001b[0m \u001b[0;36m0x1a259ae250\u001b[0m\u001b[0;34m>\u001b[0m\u001b[0;34m,\u001b[0m\u001b[0;34m\u001b[0m\n",
       "\u001b[0;34m\u001b[0m    \u001b[0mreference_pulse\u001b[0m\u001b[0;34m:\u001b[0m \u001b[0msstcam_simulation\u001b[0m\u001b[0;34m.\u001b[0m\u001b[0mcamera\u001b[0m\u001b[0;34m.\u001b[0m\u001b[0mpulse\u001b[0m\u001b[0;34m.\u001b[0m\u001b[0mReferencePulse\u001b[0m \u001b[0;34m=\u001b[0m \u001b[0;34m<\u001b[0m\u001b[0msstcam_simulation\u001b[0m\u001b[0;34m.\u001b[0m\u001b[0mcamera\u001b[0m\u001b[0;34m.\u001b[0m\u001b[0mpulse\u001b[0m\u001b[0;34m.\u001b[0m\u001b[0mGaussianPulse\u001b[0m \u001b[0mobject\u001b[0m \u001b[0mat\u001b[0m \u001b[0;36m0x1a259c9590\u001b[0m\u001b[0;34m>\u001b[0m\u001b[0;34m,\u001b[0m\u001b[0;34m\u001b[0m\n",
       "\u001b[0;34m\u001b[0m    \u001b[0mphotoelectron_spectrum\u001b[0m\u001b[0;34m:\u001b[0m \u001b[0msstcam_simulation\u001b[0m\u001b[0;34m.\u001b[0m\u001b[0mcamera\u001b[0m\u001b[0;34m.\u001b[0m\u001b[0mspe\u001b[0m\u001b[0;34m.\u001b[0m\u001b[0mSPESpectrum\u001b[0m \u001b[0;34m=\u001b[0m \u001b[0;34m<\u001b[0m\u001b[0msstcam_simulation\u001b[0m\u001b[0;34m.\u001b[0m\u001b[0mcamera\u001b[0m\u001b[0;34m.\u001b[0m\u001b[0mspe\u001b[0m\u001b[0;34m.\u001b[0m\u001b[0mSiPMGentileSPE\u001b[0m \u001b[0mobject\u001b[0m \u001b[0mat\u001b[0m \u001b[0;36m0x1a259c91d0\u001b[0m\u001b[0;34m>\u001b[0m\u001b[0;34m,\u001b[0m\u001b[0;34m\u001b[0m\n",
       "\u001b[0;34m\u001b[0m    \u001b[0melectronic_noise\u001b[0m\u001b[0;34m:\u001b[0m \u001b[0msstcam_simulation\u001b[0m\u001b[0;34m.\u001b[0m\u001b[0mcamera\u001b[0m\u001b[0;34m.\u001b[0m\u001b[0mnoise\u001b[0m\u001b[0;34m.\u001b[0m\u001b[0mElectronicNoise\u001b[0m \u001b[0;34m=\u001b[0m \u001b[0;34m<\u001b[0m\u001b[0msstcam_simulation\u001b[0m\u001b[0;34m.\u001b[0m\u001b[0mcamera\u001b[0m\u001b[0;34m.\u001b[0m\u001b[0mnoise\u001b[0m\u001b[0;34m.\u001b[0m\u001b[0mPerfectElectronics\u001b[0m \u001b[0mobject\u001b[0m \u001b[0mat\u001b[0m \u001b[0;36m0x1a258a63d0\u001b[0m\u001b[0;34m>\u001b[0m\u001b[0;34m,\u001b[0m\u001b[0;34m\u001b[0m\n",
       "\u001b[0;34m\u001b[0m\u001b[0;34m)\u001b[0m \u001b[0;34m->\u001b[0m \u001b[0;32mNone\u001b[0m\u001b[0;34m\u001b[0m\u001b[0;34m\u001b[0m\u001b[0m\n",
       "\u001b[0;31mDocstring:\u001b[0m      Container for properties which define the camera\n",
       "\u001b[0;31mFile:\u001b[0m           ~/Software/sstcam-simulation/sstcam_simulation/camera/camera.py\n",
       "\u001b[0;31mType:\u001b[0m           type\n",
       "\u001b[0;31mSubclasses:\u001b[0m     \n"
      ]
     },
     "metadata": {},
     "output_type": "display_data"
    }
   ],
   "source": [
    "from sstcam_simulation import Camera\n",
    "Camera?"
   ]
  },
  {
   "cell_type": "markdown",
   "metadata": {},
   "source": [
    "## Defaults\n",
    "\n",
    "All aspects of the `Camera` have a default value, and a reasonable description of the camera can be easily obtained to explore the other aspects of this camera."
   ]
  },
  {
   "cell_type": "code",
   "execution_count": 3,
   "metadata": {},
   "outputs": [
    {
     "name": "stdout",
     "output_type": "stream",
     "text": [
      "Camera(continuous_readout_length=1000, waveform_length=128, trigger_threshold=2, coincidence_window=8, lookback_time=20, pixel=<sstcam_simulation.camera.mapping.PixelMapping object at 0x1a259ae250>, superpixel=<sstcam_simulation.camera.mapping.SuperpixelMapping object at 0x1a2c11f850>, reference_pulse=<sstcam_simulation.camera.pulse.GaussianPulse object at 0x1a259c9590>, photoelectron_spectrum=<sstcam_simulation.camera.spe.SiPMGentileSPE object at 0x1a259c91d0>, electronic_noise=<sstcam_simulation.camera.noise.PerfectElectronics object at 0x1a258a63d0>)\n"
     ]
    }
   ],
   "source": [
    "camera = Camera()\n",
    "print(camera)"
   ]
  },
  {
   "cell_type": "markdown",
   "metadata": {},
   "source": [
    "# Continuous Readout\n",
    "\n",
    "As true continuous readout would be very dificult to simulate, an emulation of it is attempted with a readout that is longer than a typical waveform length, and is more finely samples (with sample widths of 0.2 ns).\n",
    "\n",
    "The readout length (in nanoseconds) is defined with the `continuous_readout_length` argument."
   ]
  },
  {
   "cell_type": "code",
   "execution_count": 4,
   "metadata": {},
   "outputs": [
    {
     "name": "stdout",
     "output_type": "stream",
     "text": [
      "default continuous_readout_length =  1000\n"
     ]
    }
   ],
   "source": [
    "camera = Camera()\n",
    "print(\"default continuous_readout_length = \", camera.continuous_readout_length)"
   ]
  },
  {
   "cell_type": "code",
   "execution_count": 5,
   "metadata": {},
   "outputs": [
    {
     "name": "stdout",
     "output_type": "stream",
     "text": [
      "continuous_readout_length =  20000\n"
     ]
    }
   ],
   "source": [
    "camera = Camera(continuous_readout_length=20000)\n",
    "print(\"continuous_readout_length = \", camera.continuous_readout_length)"
   ]
  },
  {
   "cell_type": "markdown",
   "metadata": {},
   "source": [
    "The sample width and a time axis for the continuous readout can be accessed through properties of the `Camera`"
   ]
  },
  {
   "cell_type": "code",
   "execution_count": 6,
   "metadata": {},
   "outputs": [
    {
     "name": "stdout",
     "output_type": "stream",
     "text": [
      "0.2\n"
     ]
    }
   ],
   "source": [
    "print(camera.continuous_sample_width)"
   ]
  },
  {
   "cell_type": "code",
   "execution_count": 7,
   "metadata": {},
   "outputs": [
    {
     "name": "stdout",
     "output_type": "stream",
     "text": [
      "[0.00000e+00 2.00000e-01 4.00000e-01 ... 1.99994e+04 1.99996e+04\n",
      " 1.99998e+04]\n"
     ]
    }
   ],
   "source": [
    "print(camera.continuous_time_axis)"
   ]
  },
  {
   "cell_type": "markdown",
   "metadata": {},
   "source": [
    "## Pixel/Superpixel Mapping\n",
    "\n",
    "The `PixelMapping` and `SuperpixelMapping` contain information about the camera mapping and pixel neighbours. They can also be used to create `CameraImage` plots (inherted from CHECLabPy)."
   ]
  },
  {
   "cell_type": "code",
   "execution_count": 8,
   "metadata": {},
   "outputs": [
    {
     "data": {
      "text/plain": [
       "\u001b[0;31mInit signature:\u001b[0m\n",
       "\u001b[0mPixelMapping\u001b[0m\u001b[0;34m(\u001b[0m\u001b[0;34m\u001b[0m\n",
       "\u001b[0;34m\u001b[0m    \u001b[0mmapping_path\u001b[0m\u001b[0;34m=\u001b[0m\u001b[0;34m'/Users/Jason/Software/sstcam-simulation/sstcam_simulation/data/mapping/checs.txt'\u001b[0m\u001b[0;34m,\u001b[0m\u001b[0;34m\u001b[0m\n",
       "\u001b[0;34m\u001b[0m    \u001b[0mn_pixels\u001b[0m\u001b[0;34m=\u001b[0m\u001b[0;32mNone\u001b[0m\u001b[0;34m,\u001b[0m\u001b[0;34m\u001b[0m\n",
       "\u001b[0;34m\u001b[0m\u001b[0;34m)\u001b[0m\u001b[0;34m\u001b[0m\u001b[0;34m\u001b[0m\u001b[0m\n",
       "\u001b[0;31mDocstring:\u001b[0m      <no docstring>\n",
       "\u001b[0;31mInit docstring:\u001b[0m\n",
       "Container for the pixel mapping\n",
       "\n",
       "Parameters\n",
       "----------\n",
       "mapping_path : str\n",
       "    Path to a txt file containing the pixel mapping definition\n",
       "n_pixels : int\n",
       "    Number of pixels to simulate\n",
       "    If None, then all pixels in file are simulated\n",
       "\u001b[0;31mFile:\u001b[0m           ~/Software/sstcam-simulation/sstcam_simulation/camera/mapping.py\n",
       "\u001b[0;31mType:\u001b[0m           type\n",
       "\u001b[0;31mSubclasses:\u001b[0m     \n"
      ]
     },
     "metadata": {},
     "output_type": "display_data"
    }
   ],
   "source": [
    "from sstcam_simulation.camera import PixelMapping\n",
    "PixelMapping?"
   ]
  },
  {
   "cell_type": "code",
   "execution_count": 9,
   "metadata": {},
   "outputs": [
    {
     "data": {
      "text/plain": [
       "\u001b[0;31mInit signature:\u001b[0m \u001b[0mSuperpixelMapping\u001b[0m\u001b[0;34m(\u001b[0m\u001b[0mpixel\u001b[0m\u001b[0;34m)\u001b[0m\u001b[0;34m\u001b[0m\u001b[0;34m\u001b[0m\u001b[0m\n",
       "\u001b[0;31mDocstring:\u001b[0m      <no docstring>\n",
       "\u001b[0;31mInit docstring:\u001b[0m\n",
       "Container for the superpixel mapping\n",
       "\n",
       "Parameters\n",
       "----------\n",
       "pixel : PixelMapping\n",
       "    Mapping of the pixels, used to generate the superpixel mapping\n",
       "\u001b[0;31mFile:\u001b[0m           ~/Software/sstcam-simulation/sstcam_simulation/camera/mapping.py\n",
       "\u001b[0;31mType:\u001b[0m           type\n",
       "\u001b[0;31mSubclasses:\u001b[0m     \n"
      ]
     },
     "metadata": {},
     "output_type": "display_data"
    }
   ],
   "source": [
    "from sstcam_simulation.camera import SuperpixelMapping\n",
    "SuperpixelMapping?"
   ]
  },
  {
   "cell_type": "code",
   "execution_count": 10,
   "metadata": {},
   "outputs": [
    {
     "name": "stdout",
     "output_type": "stream",
     "text": [
      "Total number of pixel neighbours =  7910\n"
     ]
    },
    {
     "data": {
      "image/png": "[encoded data removed]",
      "text/plain": [
       "<Figure size 377.575x233.354 with 2 Axes>"
      ]
     },
     "metadata": {
      "needs_background": "light"
     },
     "output_type": "display_data"
    }
   ],
   "source": [
    "from sstcam_simulation.plotting import CameraImage\n",
    "\n",
    "camera = Camera()\n",
    "camera_image = CameraImage.from_mapping(camera.pixel)\n",
    "print(\"Total number of pixel neighbours = \", len(camera.pixel.neighbours))\n",
    "n_neighbours = np.zeros(camera.pixel.n_pixels)\n",
    "np.add.at(n_neighbours, camera.pixel.neighbours, 1)\n",
    "camera_image.image = n_neighbours\n",
    "camera_image.add_colorbar()"
   ]
  },
  {
   "cell_type": "code",
   "execution_count": 11,
   "metadata": {},
   "outputs": [
    {
     "name": "stdout",
     "output_type": "stream",
     "text": [
      "Total number of superpixel neighbours =  1910\n"
     ]
    },
    {
     "data": {
      "image/png": "[encoded data removed]",
      "text/plain": [
       "<Figure size 377.575x233.354 with 2 Axes>"
      ]
     },
     "metadata": {
      "needs_background": "light"
     },
     "output_type": "display_data"
    }
   ],
   "source": [
    "camera = Camera()\n",
    "camera_image = CameraImage.from_mapping(camera.superpixel)\n",
    "print(\"Total number of superpixel neighbours = \", len(camera.superpixel.neighbours))\n",
    "n_neighbours = np.zeros(camera.superpixel.n_superpixels)\n",
    "np.add.at(n_neighbours, camera.superpixel.neighbours, 1)\n",
    "camera_image.image = n_neighbours\n",
    "camera_image.add_colorbar()"
   ]
  },
  {
   "cell_type": "markdown",
   "metadata": {},
   "source": [
    "One can also use the `PixelMapping` class to specify a camera with as many pixels as it required (e.g. 1 pixel, 4 pixels, 64 pixels...). The number of superpixels is calculated accounting for this configuration."
   ]
  },
  {
   "cell_type": "code",
   "execution_count": 12,
   "metadata": {},
   "outputs": [
    {
     "name": "stdout",
     "output_type": "stream",
     "text": [
      "N_pixels =  1\n",
      "N_superpixels =  1\n",
      "Total number of pixel neighbours =  0\n"
     ]
    },
    {
     "data": {
      "image/png": "[encoded data removed]",
      "text/plain": [
       "<Figure size 377.575x233.354 with 2 Axes>"
      ]
     },
     "metadata": {
      "needs_background": "light"
     },
     "output_type": "display_data"
    }
   ],
   "source": [
    "camera = Camera(pixel=PixelMapping(n_pixels=1))\n",
    "print(\"N_pixels = \", camera.pixel.n_pixels)\n",
    "print(\"N_superpixels = \", camera.superpixel.n_superpixels)\n",
    "\n",
    "camera_image = CameraImage.from_mapping(camera.pixel)\n",
    "print(\"Total number of pixel neighbours = \", len(camera.pixel.neighbours))\n",
    "n_neighbours = np.zeros(camera.pixel.n_pixels)\n",
    "np.add.at(n_neighbours, camera.pixel.neighbours, 1)\n",
    "camera_image.image = n_neighbours\n",
    "camera_image.add_colorbar()"
   ]
  },
  {
   "cell_type": "markdown",
   "metadata": {},
   "source": [
    "## Reference Pulse\n",
    "\n",
    "The `ReferencePulse` is a base for classes which define the reference pulse shape of the camera. When obtaining the camera readout, this pulse shape is convolved with the photoelectrons. The `ReferencePulse` subclass defines the `_function` method, which returns the pulse shape when given the an ndarray containing time values. The `__init__` for a `ReferencePulse` subclass takes in whatever paramters needed to describe the pulse, in addition to the `length` argument, which defines the length for the reference pulse (in nanoseconds). From the definition in `_function` and the configuration arguments to `__init__`, the reference pulse array is generated ready to be used in the convolution.\n",
    "\n",
    "The reference pulse is normalised to have an integral of 1. Therefore a convolution with this pulse does not change the units of charge."
   ]
  },
  {
   "cell_type": "code",
   "execution_count": 13,
   "metadata": {},
   "outputs": [
    {
     "data": {
      "text/plain": [
       "\u001b[0;31mInit signature:\u001b[0m \u001b[0mReferencePulse\u001b[0m\u001b[0;34m(\u001b[0m\u001b[0mlength\u001b[0m\u001b[0;34m)\u001b[0m\u001b[0;34m\u001b[0m\u001b[0;34m\u001b[0m\u001b[0m\n",
       "\u001b[0;31mDocstring:\u001b[0m      <no docstring>\n",
       "\u001b[0;31mInit docstring:\u001b[0m\n",
       "Base for classes which define a reference pulse shape\n",
       "\n",
       "The pulse is evaluated on initialisation.\n",
       "For a new pulse to be defined, a new class should be initialised.\n",
       "\n",
       "Parameters\n",
       "----------\n",
       "length : int\n",
       "    Length of the reference pulse in nanoseconds\n",
       "\u001b[0;31mFile:\u001b[0m           ~/Software/sstcam-simulation/sstcam_simulation/camera/pulse.py\n",
       "\u001b[0;31mType:\u001b[0m           ABCMeta\n",
       "\u001b[0;31mSubclasses:\u001b[0m     GenericPulse, GaussianPulse\n"
      ]
     },
     "metadata": {},
     "output_type": "display_data"
    }
   ],
   "source": [
    "from sstcam_simulation.camera.pulse import ReferencePulse, GaussianPulse\n",
    "ReferencePulse?"
   ]
  },
  {
   "cell_type": "code",
   "execution_count": 14,
   "metadata": {},
   "outputs": [
    {
     "data": {
      "image/png": "[encoded data removed]",
      "text/plain": [
       "<Figure size 377.575x233.354 with 1 Axes>"
      ]
     },
     "metadata": {
      "needs_background": "light"
     },
     "output_type": "display_data"
    }
   ],
   "source": [
    "pulse = GaussianPulse(mean=20, sigma=3)\n",
    "camera = Camera(reference_pulse=pulse)\n",
    "plt.plot(camera.reference_pulse.time, camera.reference_pulse.pulse)\n",
    "plt.xlabel(\"Time (ns)\")\n",
    "_ = plt.ylabel(\"Amplitude\")"
   ]
  },
  {
   "cell_type": "markdown",
   "metadata": {},
   "source": [
    "## SPE Spectrum\n",
    "\n",
    "The `SPESpectrum` class is the base for classes which define the Probability Density Function for the possible charges a photosensor can report a single photoelectron as. Very similar to the `ReferencePulse` classes, the `_function` methods of the subclass defines the spectrum for different x values. The `__init__` takes arguments which configure the spectrum, and also the `x_min`, `x_max`, and `n_points`, to define the sampling of the spectrum. During the simulation, this spectrum is used with `np.random.choice` to perform [Inverse Transform Sampling](https://en.wikipedia.org/wiki/Inverse_transform_sampling) to obtain a random value of charge weighted by the spectrum.\n",
    "\n",
    "The spectrum is normalised to have an integral of 1, and to return an average charge of 1 (such that the units of charge are in photoelectrons)."
   ]
  },
  {
   "cell_type": "code",
   "execution_count": 15,
   "metadata": {},
   "outputs": [
    {
     "data": {
      "text/plain": [
       "\u001b[0;31mInit signature:\u001b[0m \u001b[0mSPESpectrum\u001b[0m\u001b[0;34m(\u001b[0m\u001b[0mx_min\u001b[0m\u001b[0;34m,\u001b[0m \u001b[0mx_max\u001b[0m\u001b[0;34m,\u001b[0m \u001b[0mn_points\u001b[0m\u001b[0;34m)\u001b[0m\u001b[0;34m\u001b[0m\u001b[0;34m\u001b[0m\u001b[0m\n",
       "\u001b[0;31mDocstring:\u001b[0m      <no docstring>\n",
       "\u001b[0;31mInit docstring:\u001b[0m\n",
       "Base for classes which define the probability density function of the\n",
       "charge for a single photoelectron.\n",
       "\n",
       "NOTE: this is **not** the spectrum for an \"average illumination\" i.e. a Poisson\n",
       "average close to one. This is the probability density function of the\n",
       "possible charges a single photoelectron can be measured as. This spectrum\n",
       "therefore defines the Excess Noise Factor (ENF) of the photosensor. Also,\n",
       "by definition, it does not include the pedestal peak.\n",
       "\n",
       "The spectrum is evaluated on initialisation.\n",
       "For a new spectrum to be defined, a new class should be initialised.\n",
       "\n",
       "Parameters\n",
       "----------\n",
       "x_min : float\n",
       "    Minimum charge at which the spectrum is defined (Unit: p.e.)\n",
       "x_max : float\n",
       "    Maximum charge at which the spectrum is defined (Unit: p.e.)\n",
       "n_points: int\n",
       "    Number of points between x_min and x_max used to define the spectrum\n",
       "\u001b[0;31mFile:\u001b[0m           ~/Software/sstcam-simulation/sstcam_simulation/camera/spe.py\n",
       "\u001b[0;31mType:\u001b[0m           ABCMeta\n",
       "\u001b[0;31mSubclasses:\u001b[0m     PerfectPhotosensor, SiPMGentileSPE\n"
      ]
     },
     "metadata": {},
     "output_type": "display_data"
    }
   ],
   "source": [
    "from sstcam_simulation.camera.spe import SPESpectrum, SiPMGentileSPE\n",
    "SPESpectrum?"
   ]
  },
  {
   "cell_type": "code",
   "execution_count": 16,
   "metadata": {},
   "outputs": [
    {
     "data": {
      "image/png": "[encoded data removed]",
      "text/plain": [
       "<Figure size 377.575x233.354 with 1 Axes>"
      ]
     },
     "metadata": {
      "needs_background": "light"
     },
     "output_type": "display_data"
    }
   ],
   "source": [
    "spe_spectrum = SiPMGentileSPE(spe_sigma=0.1, opct=0.4, x_min=0, x_max=10, n_points=1000)\n",
    "camera = Camera(photoelectron_spectrum=spe_spectrum)\n",
    "plt.plot(camera.photoelectron_spectrum.x, camera.photoelectron_spectrum.pdf)\n",
    "plt.xlabel(\"Charge (p.e.)\")\n",
    "_ = plt.ylabel(\"PDF\")"
   ]
  },
  {
   "cell_type": "markdown",
   "metadata": {},
   "source": [
    "## Electronic Noise\n",
    "\n",
    "The `ElectronicNoise` class is the base for classes which define the electronic noise spectrum to be applied to the camera readout. The tranformation to the readout is defined in the `add_to_readout` method in the subclass. This method takes only the `readout` as an argument. The configuration for the electronic noise spectrum is defined in arguments to the `__init__` of the subclass."
   ]
  },
  {
   "cell_type": "code",
   "execution_count": 17,
   "metadata": {},
   "outputs": [
    {
     "data": {
      "text/plain": [
       "\u001b[0;31mInit signature:\u001b[0m \u001b[0mElectronicNoise\u001b[0m\u001b[0;34m(\u001b[0m\u001b[0;34m)\u001b[0m\u001b[0;34m\u001b[0m\u001b[0;34m\u001b[0m\u001b[0m\n",
       "\u001b[0;31mDocstring:\u001b[0m     \n",
       "Base for classes which define an electronic noise spectrum, and how it is\n",
       "applied to the waveform\n",
       "\u001b[0;31mFile:\u001b[0m           ~/Software/sstcam-simulation/sstcam_simulation/camera/noise.py\n",
       "\u001b[0;31mType:\u001b[0m           ABCMeta\n",
       "\u001b[0;31mSubclasses:\u001b[0m     PerfectElectronics, GaussianNoise\n"
      ]
     },
     "metadata": {},
     "output_type": "display_data"
    }
   ],
   "source": [
    "from sstcam_simulation.camera.noise import ElectronicNoise, GaussianNoise\n",
    "ElectronicNoise?"
   ]
  },
  {
   "cell_type": "code",
   "execution_count": 18,
   "metadata": {},
   "outputs": [
    {
     "data": {
      "image/png": "[encoded data removed]",
      "text/plain": [
       "<Figure size 377.575x233.354 with 1 Axes>"
      ]
     },
     "metadata": {
      "needs_background": "light"
     },
     "output_type": "display_data"
    }
   ],
   "source": [
    "noise = GaussianNoise(stddev=5)\n",
    "camera = Camera(electronic_noise=noise)\n",
    "readout = np.random.random((camera.pixel.n_pixels, camera.continuous_time_axis.size))\n",
    "noisy_readout = camera.electronic_noise.add_to_readout(readout)\n",
    "plt.plot(camera.continuous_time_axis, noisy_readout[0], label=\"Noisy\")\n",
    "plt.plot(camera.continuous_time_axis, readout[0], label=\"Input\")\n",
    "plt.xlabel(\"Time (ns)\")\n",
    "plt.ylabel(\"Amplitude (p.e. / ns)\")\n",
    "_ = plt.legend(loc='best')"
   ]
  }
 ],
 "metadata": {
  "kernelspec": {
   "display_name": "Python [conda env:cta] *",
   "language": "python",
   "name": "conda-env-cta-py"
  },
  "language_info": {
   "codemirror_mode": {
    "name": "ipython",
    "version": 3
   },
   "file_extension": ".py",
   "mimetype": "text/x-python",
   "name": "python",
   "nbconvert_exporter": "python",
   "pygments_lexer": "ipython3",
   "version": "3.7.5"
  }
 },
 "nbformat": 4,
 "nbformat_minor": 4
}
