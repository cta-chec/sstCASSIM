{
 "cells": [
  {
   "cell_type": "code",
   "execution_count": 1,
   "metadata": {},
   "outputs": [],
   "source": [
    "%matplotlib widget\n",
    "import ipywidgets as widgets\n",
    "import matplotlib.pyplot as plt\n",
    "import numpy as np\n",
    "from sstcam_simulation.utils.efficiency import CameraEfficiency, NSB_FLUX_UNIT\n",
    "from sstcam_simulation.utils.sipm import SiPMSpecification\n",
    "from sstcam_simulation.data import get_data\n",
    "from astropy import units as u\n",
    "from ipywidgets import interactive\n",
    "from IPython.display import display"
   ]
  },
  {
   "cell_type": "code",
   "execution_count": 5,
   "metadata": {},
   "outputs": [],
   "source": [
    "path_window = get_data(\"datasheet/efficiency/prod4_window.csv\")\n",
    "path_pde = get_data(\"datasheet/efficiency/prod4_pde.csv\")"
   ]
  },
  {
   "cell_type": "markdown",
   "metadata": {},
   "source": [
    "# Cherenkov & NSB Spectrum Efficiency"
   ]
  },
  {
   "cell_type": "code",
   "execution_count": 6,
   "metadata": {},
   "outputs": [
    {
     "data": {
      "application/vnd.jupyter.widget-view+json": {
       "model_id": "9f3482bde5e5430ba81b32d75b65022a",
       "version_major": 2,
       "version_minor": 0
      },
      "text/plain": [
       "Canvas(toolbar=Toolbar(toolitems=[('Home', 'Reset original view', 'home', 'home'), ('Back', 'Back to previous …"
      ]
     },
     "metadata": {},
     "output_type": "display_data"
    },
    {
     "data": {
      "application/vnd.jupyter.widget-view+json": {
       "model_id": "49a0125b9b204ed98263981368dc91c0",
       "version_major": 2,
       "version_minor": 0
      },
      "text/plain": [
       "interactive(children=(FloatSlider(value=0.5, description='PDE @ 410.0 nm:', layout=Layout(width='50%'), max=1.…"
      ]
     },
     "metadata": {},
     "output_type": "display_data"
    }
   ],
   "source": [
    "efficiency = CameraEfficiency(path_window=path_window, path_pde=path_pde)\n",
    "cherenkov_integral = efficiency._integrate_cherenkov(\n",
    "    efficiency._cherenkov_diff_flux_on_ground, \n",
    "    u.Quantity(300, u.nm), \n",
    "    u.Quantity(600, u.nm)\n",
    ")\n",
    "efficiency.cherenkov_scale = 100 / cherenkov_integral\n",
    "scale_pde_wavelength = u.Quantity(410, u.nm)\n",
    "\n",
    "fig, ax1 = plt.subplots()\n",
    "ax2 = ax1.twinx()\n",
    "ax1.plot(efficiency.wavelength, efficiency._cherenkov_diff_flux_on_ground, color='blue', alpha=0.1)\n",
    "l_cherenkov = ax1.plot(efficiency.wavelength, efficiency._cherenkov_diff_flux_inside_pixel, color='blue', label=\"Cherenkov\")\n",
    "ax2.plot(efficiency.wavelength, efficiency._nsb_diff_flux_on_ground, color='red', alpha=0.1)\n",
    "l_nsb = ax2.plot(efficiency.wavelength, efficiency._nsb_diff_flux_inside_pixel, color='red', label=\"NSB\")\n",
    "ax2.plot(efficiency.wavelength, efficiency._moonlight_diff_flux_on_ground, color='darkred', alpha=0.1)\n",
    "l_moonlight = ax2.plot(efficiency.wavelength, efficiency._moonlight_diff_flux_inside_pixel, color='darkred', label=\"Moonlight\")\n",
    "\n",
    "nsb_nominal = efficiency.nominal_nsb_rate.to(\"MHz\")\n",
    "nsb_high = efficiency.high_nsb_rate.to(\"MHz\")\n",
    "moonlight_nominal = efficiency.nominal_moonlight_rate.to(\"MHz\")\n",
    "moonlight_high = efficiency.high_moonlight_rate.to(\"MHz\")\n",
    "cherenkov_pde = efficiency.effective_cherenkov_pde\n",
    "t_nsb_nominal = ax1.text(0.01, 0.90, f\"Nominal NSB Rate = {nsb_nominal:.2f}\", transform=ax1.transAxes)\n",
    "t_nsb_high = ax1.text(0.01, 0.85, f\"High NSB Rate = {nsb_high:.2f}\", transform=ax1.transAxes)\n",
    "t_moonlight_nominal = ax1.text(0.01, 0.80, f\"Nominal Moonlight Rate = {moonlight_nominal:.2f}\", transform=ax1.transAxes)\n",
    "t_moonlight_high = ax1.text(0.01, 0.75, f\"High Moonlight Rate = {moonlight_high:.2f}\", transform=ax1.transAxes)\n",
    "t_cherenkov_pde = ax1.text(0.01, 0.70, f\"Effective Cherenkov PDE = {cherenkov_pde:.2f}\", transform=ax1.transAxes)\n",
    "\n",
    "ax1.set_ylim(0, 0.45)\n",
    "ax2.set_ylim(0, 35)\n",
    "ax1.set_xlabel(\"Wavelength [nm]\")\n",
    "ax1.set_ylabel(\"Cherenkov photons [100 * 1 / nm]\")\n",
    "ax2.set_ylabel(\"NSB photons [ 1 / (nm m2 ns sr) ]\")\n",
    "fig.legend()\n",
    "\n",
    "def slide_pde(pde):\n",
    "    efficiency.scale_pde(scale_pde_wavelength, pde)\n",
    "    l_nsb[0].set_ydata(efficiency._nsb_diff_flux_inside_pixel)\n",
    "    l_moonlight[0].set_ydata(efficiency._moonlight_diff_flux_inside_pixel)\n",
    "    l_cherenkov[0].set_ydata(efficiency._cherenkov_diff_flux_inside_pixel)\n",
    "    \n",
    "    nsb_nominal = efficiency.nominal_nsb_rate.to(\"MHz\")\n",
    "    nsb_high = efficiency.high_nsb_rate.to(\"MHz\")\n",
    "    moonlight_nominal = efficiency.nominal_moonlight_rate.to(\"MHz\")\n",
    "    moonlight_high = efficiency.high_moonlight_rate.to(\"MHz\")\n",
    "    cherenkov_pde = efficiency.effective_cherenkov_pde\n",
    "    t_nsb_nominal.set_text(f\"Nominal NSB Rate = {nsb_nominal:.2f}\")\n",
    "    t_nsb_high.set_text(f\"High NSB Rate = {nsb_high:.2f}\")\n",
    "    t_moonlight_nominal.set_text(f\"Nominal Moonlight Rate = {moonlight_nominal:.2f}\")\n",
    "    t_moonlight_high.set_text(f\"High Moonlight Rate = {moonlight_high:.2f}\")\n",
    "    t_cherenkov_pde.set_text(f\"Effective Cherenkov PDE = {cherenkov_pde:.2f}\")\n",
    "\n",
    "slider = widgets.FloatSlider(\n",
    "    value=0.5,\n",
    "    min=0.01,\n",
    "    max=1,\n",
    "    step=0.01,\n",
    "    description=f'PDE @ {scale_pde_wavelength}:',\n",
    "    disabled=False,\n",
    "    continuous_update=True,\n",
    "    orientation='horizontal',\n",
    "    readout=True,\n",
    "    readout_format='.2f',\n",
    "    style={'description_width': 'initial'},\n",
    "    layout=widgets.Layout(width='50%'),\n",
    ")\n",
    "interactive(slide_pde, pde=slider)"
   ]
  },
  {
   "cell_type": "code",
   "execution_count": null,
   "metadata": {},
   "outputs": [],
   "source": []
  }
 ],
 "metadata": {
  "kernelspec": {
   "display_name": "Python [conda env:sstcam] *",
   "language": "python",
   "name": "conda-env-sstcam-py"
  },
  "language_info": {
   "codemirror_mode": {
    "name": "ipython",
    "version": 3
   },
   "file_extension": ".py",
   "mimetype": "text/x-python",
   "name": "python",
   "nbconvert_exporter": "python",
   "pygments_lexer": "ipython3",
   "version": "3.8.0"
  }
 },
 "nbformat": 4,
 "nbformat_minor": 4
}
