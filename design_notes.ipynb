{
 "cells": [
  {
   "cell_type": "markdown",
   "metadata": {},
   "source": [
    "# Outline"
   ]
  },
  {
   "cell_type": "markdown",
   "metadata": {},
   "source": [
    "## Inputs\n",
    "\n",
    "* Single Electron Spectrum (from gentile - with OCT as input param) (ideally generated from function, read from file also ok) (can start with prod-4) (should have a mean == 1)\n",
    "* Pulse shape (from file) (can make functions to make file) (start with chec-s ref pulse) (area = 1, later scale area by number of photons)\n",
    "* Electronic noise (start with white noise and an RMS) (eventually add a spectrum)\n",
    "* NSB rate"
   ]
  },
  {
   "cell_type": "markdown",
   "metadata": {},
   "source": [
    "## Units\n",
    "\n",
    "* mV, pe, ns, Hz"
   ]
  },
  {
   "cell_type": "markdown",
   "metadata": {},
   "source": [
    "## Pieces\n",
    "\n",
    "### Signal \n",
    "\n",
    "* MC input\n",
    "    * MC files - find? - where (ground, FP?)\n",
    "    * Convert root/simtelarry to binned camera files (i.e. [event, every photon, pixel hit, time])... could alread create the 'signal' wfs at this step (delta functions) --> SIGNAL FILE \n",
    "    * Draw the signal... camera image, waveforms (i.e. check the input file)\n",
    "* Waveform generation - signal\n",
    "    * SPE generation / readin\n",
    "    * Pulse shape readin \n",
    "    * NSB\n",
    "    * Add signal\n",
    "    * Add electronics noise\n",
    "    * Add AC coupling (wf = wf - np.mean(wf))\n",
    "* Pass wf through trigger\n",
    "    * Same implementation for Bias curve\n",
    "* Assess efficiency\n",
    "    * Create true image bins (say 0 - 1000 in 20 pe steps?)\n",
    "    * For each event: image size (just sum of signal), if it triggers (ntrig_bin++), ntot_bin++ \n",
    "   \n",
    "    \n",
    "### Bias \n",
    "\n",
    "* Waveform generation - no gammas\n",
    "    * Start with simple... (no signal, just NSB, no elec noise, 0.5 ns bins, 1 $\\mu$s )\n",
    "* Threshold setting and trigger logic\n",
    "    * Bias curve logic\n",
    "    * Trigger locgic L1 (analogoue sum + threshold)\n",
    "    * Trigger locgic L2 (need to look up NN)\n",
    "    * Try setting L1 threshold (i.e. make a bias curve)\n",
    "   \n"
   ]
  },
  {
   "cell_type": "markdown",
   "metadata": {},
   "source": [
    "## Class stucture / functions?\n",
    "\n",
    "* MC Converter (script)\n",
    "    * Takes simtel array, CHECLabPy --> our own format (binned by pixel)\n",
    "    * List of events, photons, pixels, times (every photon gets an entry) (hd5??)\n",
    "    * Could split to many files... \n",
    "* Cherenkov reader\n",
    "    * Load signal stick in memory (event object???)\n",
    "    * \"GetNextEvent\" Function \n",
    "    * Serial vs Random access? (for cluster)\n",
    "* Trigger (class or functions)\n",
    "    * Initialisier: L1 output trigger width (later: holdoff, jitter...)\n",
    "    * L1: accepts camera event (2048 wf, or event object), returns digital trace \n",
    "    * L2: accepts digital pulses (512) and dead time, returns number of triggers and number of busy triggers?\n",
    "* WaveformBuilder (class or set of functions)\n",
    "    * Init\n",
    "    * Add... noise, NSB, Signal (later: miscall, jitter etc)\n",
    "* Scripts\n",
    "    * Debugging plotting....\n",
    "        * Generation and Plot\n",
    "    * Determine L1 Threshold --> Bias curve\n",
    "        * Generate (cluster)\n",
    "        * Plot\n",
    "    * Determine trigger eff --> Eff vs Image amp (and min im amp: 50% eff)\n",
    "        * Generate (cluster)\n",
    "        * Plot\n",
    "    * Combine trigger eff... min image amp vs X \n",
    "        * Plot\n",
    "   "
   ]
  },
  {
   "cell_type": "code",
   "execution_count": null,
   "metadata": {
    "collapsed": true
   },
   "outputs": [],
   "source": []
  }
 ],
 "metadata": {
  "kernelspec": {
   "display_name": "Python 3",
   "language": "python",
   "name": "python3"
  },
  "language_info": {
   "codemirror_mode": {
    "name": "ipython",
    "version": 3
   },
   "file_extension": ".py",
   "mimetype": "text/x-python",
   "name": "python",
   "nbconvert_exporter": "python",
   "pygments_lexer": "ipython3",
   "version": "3.7.4"
  }
 },
 "nbformat": 4,
 "nbformat_minor": 2
}
